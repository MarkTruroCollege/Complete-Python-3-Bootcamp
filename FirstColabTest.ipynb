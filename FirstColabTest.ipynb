{
  "nbformat": 4,
  "nbformat_minor": 0,
  "metadata": {
    "colab": {
      "name": "FirstColabTest.ipynb",
      "provenance": [],
      "toc_visible": true,
      "authorship_tag": "ABX9TyNtSmgztVKDjFTxibFQDIcP",
      "include_colab_link": true
    },
    "kernelspec": {
      "name": "python3",
      "display_name": "Python 3"
    }
  },
  "cells": [
    {
      "cell_type": "markdown",
      "metadata": {
        "id": "view-in-github",
        "colab_type": "text"
      },
      "source": [
        "<a href=\"https://colab.research.google.com/github/MarkTruroCollege/Complete-Python-3-Bootcamp/blob/master/FirstColabTest.ipynb\" target=\"_parent\"><img src=\"https://colab.research.google.com/assets/colab-badge.svg\" alt=\"Open In Colab\"/></a>"
      ]
    },
    {
      "cell_type": "markdown",
      "metadata": {
        "id": "ZF2Z1B0FmJK4",
        "colab_type": "text"
      },
      "source": [
        "#My First Attempt with Colab\n",
        "This is my scrapbook of test code to learn how to use Google Colab"
      ]
    },
    {
      "cell_type": "markdown",
      "metadata": {
        "id": "5CZDm0lNofaN",
        "colab_type": "text"
      },
      "source": [
        "## Variable and F Strings"
      ]
    },
    {
      "cell_type": "code",
      "metadata": {
        "id": "COLQtdI1mSW0",
        "colab_type": "code",
        "colab": {}
      },
      "source": [
        "first_name = \"Ted\"\n",
        "print(f\"Hello {first_name}, it is good to see you today.\")"
      ],
      "execution_count": 0,
      "outputs": []
    },
    {
      "cell_type": "markdown",
      "metadata": {
        "id": "5euqqOORWHM9",
        "colab_type": "text"
      },
      "source": [
        "# Lists"
      ]
    },
    {
      "cell_type": "code",
      "metadata": {
        "id": "NinzOh_TW5zz",
        "colab_type": "code",
        "colab": {}
      },
      "source": [
        "name_list = ['Jeff', 'Bill', 'sid']\n",
        "#Select first letter of each name in the list\n",
        "first_letters = [name[0] for name in name_list]\n",
        "for letter in first_letters:\n",
        "  print(letter.lower(), end='')"
      ],
      "execution_count": 0,
      "outputs": []
    },
    {
      "cell_type": "markdown",
      "metadata": {
        "id": "rEkUU87wWT7c",
        "colab_type": "text"
      },
      "source": [
        "# Section 2"
      ]
    }
  ]
}